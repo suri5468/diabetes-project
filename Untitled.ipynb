{
 "cells": [
  {
   "cell_type": "code",
   "execution_count": 2,
   "metadata": {},
   "outputs": [],
   "source": [
    "import numpy as np\n",
    "import matplotlib.pyplot as plt\n",
    "from sklearn import datasets, linear_model\n",
    "from sklearn.metrics import mean_squared_error"
   ]
  },
  {
   "cell_type": "code",
   "execution_count": 3,
   "metadata": {},
   "outputs": [],
   "source": [
    "diabetes = datasets.load_diabetes()"
   ]
  },
  {
   "cell_type": "code",
   "execution_count": 4,
   "metadata": {},
   "outputs": [
    {
     "name": "stdout",
     "output_type": "stream",
     "text": [
      "dict_keys(['data', 'target', 'frame', 'DESCR', 'feature_names', 'data_filename', 'target_filename'])\n"
     ]
    }
   ],
   "source": [
    "print(diabetes.keys())"
   ]
  },
  {
   "cell_type": "code",
   "execution_count": 5,
   "metadata": {},
   "outputs": [],
   "source": [
    "diabetes_X = diabetes.data[:,np.newaxis,2]"
   ]
  },
  {
   "cell_type": "code",
   "execution_count": 6,
   "metadata": {},
   "outputs": [
    {
     "name": "stdout",
     "output_type": "stream",
     "text": [
      ".. _diabetes_dataset:\n",
      "\n",
      "Diabetes dataset\n",
      "----------------\n",
      "\n",
      "Ten baseline variables, age, sex, body mass index, average blood\n",
      "pressure, and six blood serum measurements were obtained for each of n =\n",
      "442 diabetes patients, as well as the response of interest, a\n",
      "quantitative measure of disease progression one year after baseline.\n",
      "\n",
      "**Data Set Characteristics:**\n",
      "\n",
      "  :Number of Instances: 442\n",
      "\n",
      "  :Number of Attributes: First 10 columns are numeric predictive values\n",
      "\n",
      "  :Target: Column 11 is a quantitative measure of disease progression one year after baseline\n",
      "\n",
      "  :Attribute Information:\n",
      "      - age     age in years\n",
      "      - sex\n",
      "      - bmi     body mass index\n",
      "      - bp      average blood pressure\n",
      "      - s1      tc, T-Cells (a type of white blood cells)\n",
      "      - s2      ldl, low-density lipoproteins\n",
      "      - s3      hdl, high-density lipoproteins\n",
      "      - s4      tch, thyroid stimulating hormone\n",
      "      - s5      ltg, lamotrigine\n",
      "      - s6      glu, blood sugar level\n",
      "\n",
      "Note: Each of these 10 feature variables have been mean centered and scaled by the standard deviation times `n_samples` (i.e. the sum of squares of each column totals 1).\n",
      "\n",
      "Source URL:\n",
      "https://www4.stat.ncsu.edu/~boos/var.select/diabetes.html\n",
      "\n",
      "For more information see:\n",
      "Bradley Efron, Trevor Hastie, Iain Johnstone and Robert Tibshirani (2004) \"Least Angle Regression,\" Annals of Statistics (with discussion), 407-499.\n",
      "(https://web.stanford.edu/~hastie/Papers/LARS/LeastAngle_2002.pdf)\n"
     ]
    }
   ],
   "source": [
    "print(diabetes.DESCR)"
   ]
  },
  {
   "cell_type": "code",
   "execution_count": 8,
   "metadata": {},
   "outputs": [
    {
     "name": "stdout",
     "output_type": "stream",
     "text": [
      "[[ 0.06169621]\n",
      " [-0.05147406]\n",
      " [ 0.04445121]\n",
      " [-0.01159501]\n",
      " [-0.03638469]\n",
      " [-0.04069594]\n",
      " [-0.04716281]\n",
      " [-0.00189471]\n",
      " [ 0.06169621]\n",
      " [ 0.03906215]\n",
      " [-0.08380842]\n",
      " [ 0.01750591]\n",
      " [-0.02884001]\n",
      " [-0.00189471]\n",
      " [-0.02560657]\n",
      " [-0.01806189]\n",
      " [ 0.04229559]\n",
      " [ 0.01211685]\n",
      " [-0.0105172 ]\n",
      " [-0.01806189]\n",
      " [-0.05686312]\n",
      " [-0.02237314]\n",
      " [-0.00405033]\n",
      " [ 0.06061839]\n",
      " [ 0.03582872]\n",
      " [-0.01267283]\n",
      " [-0.07734155]\n",
      " [ 0.05954058]\n",
      " [-0.02129532]\n",
      " [-0.00620595]\n",
      " [ 0.04445121]\n",
      " [-0.06548562]\n",
      " [ 0.12528712]\n",
      " [-0.05039625]\n",
      " [-0.06332999]\n",
      " [-0.03099563]\n",
      " [ 0.02289497]\n",
      " [ 0.01103904]\n",
      " [ 0.07139652]\n",
      " [ 0.01427248]\n",
      " [-0.00836158]\n",
      " [-0.06764124]\n",
      " [-0.0105172 ]\n",
      " [-0.02345095]\n",
      " [ 0.06816308]\n",
      " [-0.03530688]\n",
      " [-0.01159501]\n",
      " [-0.0730303 ]\n",
      " [-0.04177375]\n",
      " [ 0.01427248]\n",
      " [-0.00728377]\n",
      " [ 0.0164281 ]\n",
      " [-0.00943939]\n",
      " [-0.01590626]\n",
      " [ 0.0250506 ]\n",
      " [-0.04931844]\n",
      " [ 0.04121778]\n",
      " [-0.06332999]\n",
      " [-0.06440781]\n",
      " [-0.02560657]\n",
      " [-0.00405033]\n",
      " [ 0.00457217]\n",
      " [-0.00728377]\n",
      " [-0.0374625 ]\n",
      " [-0.02560657]\n",
      " [-0.02452876]\n",
      " [-0.01806189]\n",
      " [-0.01482845]\n",
      " [-0.02991782]\n",
      " [-0.046085  ]\n",
      " [-0.06979687]\n",
      " [ 0.03367309]\n",
      " [-0.00405033]\n",
      " [-0.02021751]\n",
      " [ 0.00241654]\n",
      " [-0.03099563]\n",
      " [ 0.02828403]\n",
      " [-0.03638469]\n",
      " [-0.05794093]\n",
      " [-0.0374625 ]\n",
      " [ 0.01211685]\n",
      " [-0.02237314]\n",
      " [-0.03530688]\n",
      " [ 0.00996123]\n",
      " [-0.03961813]\n",
      " [ 0.07139652]\n",
      " [-0.07518593]\n",
      " [-0.00620595]\n",
      " [-0.04069594]\n",
      " [-0.04824063]\n",
      " [-0.02560657]\n",
      " [ 0.0519959 ]\n",
      " [ 0.00457217]\n",
      " [-0.06440781]\n",
      " [-0.01698407]\n",
      " [-0.05794093]\n",
      " [ 0.00996123]\n",
      " [ 0.08864151]\n",
      " [-0.00512814]\n",
      " [-0.06440781]\n",
      " [ 0.01750591]\n",
      " [-0.04500719]\n",
      " [ 0.02828403]\n",
      " [ 0.04121778]\n",
      " [ 0.06492964]\n",
      " [-0.03207344]\n",
      " [-0.07626374]\n",
      " [ 0.04984027]\n",
      " [ 0.04552903]\n",
      " [-0.00943939]\n",
      " [-0.03207344]\n",
      " [ 0.00457217]\n",
      " [ 0.02073935]\n",
      " [ 0.01427248]\n",
      " [ 0.11019775]\n",
      " [ 0.00133873]\n",
      " [ 0.05846277]\n",
      " [-0.02129532]\n",
      " [-0.0105172 ]\n",
      " [-0.04716281]\n",
      " [ 0.00457217]\n",
      " [ 0.01750591]\n",
      " [ 0.08109682]\n",
      " [ 0.0347509 ]\n",
      " [ 0.02397278]\n",
      " [-0.00836158]\n",
      " [-0.06117437]\n",
      " [-0.00189471]\n",
      " [-0.06225218]\n",
      " [ 0.0164281 ]\n",
      " [ 0.09618619]\n",
      " [-0.06979687]\n",
      " [-0.02129532]\n",
      " [-0.05362969]\n",
      " [ 0.0433734 ]\n",
      " [ 0.05630715]\n",
      " [-0.0816528 ]\n",
      " [ 0.04984027]\n",
      " [ 0.11127556]\n",
      " [ 0.06169621]\n",
      " [ 0.01427248]\n",
      " [ 0.04768465]\n",
      " [ 0.01211685]\n",
      " [ 0.00564998]\n",
      " [ 0.04660684]\n",
      " [ 0.12852056]\n",
      " [ 0.05954058]\n",
      " [ 0.09295276]\n",
      " [ 0.01535029]\n",
      " [-0.00512814]\n",
      " [ 0.0703187 ]\n",
      " [-0.00405033]\n",
      " [-0.00081689]\n",
      " [-0.04392938]\n",
      " [ 0.02073935]\n",
      " [ 0.06061839]\n",
      " [-0.0105172 ]\n",
      " [-0.03315126]\n",
      " [-0.06548562]\n",
      " [ 0.0433734 ]\n",
      " [-0.06225218]\n",
      " [ 0.06385183]\n",
      " [ 0.03043966]\n",
      " [ 0.07247433]\n",
      " [-0.0191397 ]\n",
      " [-0.06656343]\n",
      " [-0.06009656]\n",
      " [ 0.06924089]\n",
      " [ 0.05954058]\n",
      " [-0.02668438]\n",
      " [-0.02021751]\n",
      " [-0.046085  ]\n",
      " [ 0.07139652]\n",
      " [-0.07949718]\n",
      " [ 0.00996123]\n",
      " [-0.03854032]\n",
      " [ 0.01966154]\n",
      " [ 0.02720622]\n",
      " [-0.00836158]\n",
      " [-0.01590626]\n",
      " [ 0.00457217]\n",
      " [-0.04285156]\n",
      " [ 0.00564998]\n",
      " [-0.03530688]\n",
      " [ 0.02397278]\n",
      " [-0.01806189]\n",
      " [ 0.04229559]\n",
      " [-0.0547075 ]\n",
      " [-0.00297252]\n",
      " [-0.06656343]\n",
      " [-0.01267283]\n",
      " [-0.04177375]\n",
      " [-0.03099563]\n",
      " [-0.00512814]\n",
      " [-0.05901875]\n",
      " [ 0.0250506 ]\n",
      " [-0.046085  ]\n",
      " [ 0.00349435]\n",
      " [ 0.05415152]\n",
      " [-0.04500719]\n",
      " [-0.05794093]\n",
      " [-0.05578531]\n",
      " [ 0.00133873]\n",
      " [ 0.03043966]\n",
      " [ 0.00672779]\n",
      " [ 0.04660684]\n",
      " [ 0.02612841]\n",
      " [ 0.04552903]\n",
      " [ 0.04013997]\n",
      " [-0.01806189]\n",
      " [ 0.01427248]\n",
      " [ 0.03690653]\n",
      " [ 0.00349435]\n",
      " [-0.07087468]\n",
      " [-0.03315126]\n",
      " [ 0.09403057]\n",
      " [ 0.03582872]\n",
      " [ 0.03151747]\n",
      " [-0.06548562]\n",
      " [-0.04177375]\n",
      " [-0.03961813]\n",
      " [-0.03854032]\n",
      " [-0.02560657]\n",
      " [-0.02345095]\n",
      " [-0.06656343]\n",
      " [ 0.03259528]\n",
      " [-0.046085  ]\n",
      " [-0.02991782]\n",
      " [-0.01267283]\n",
      " [-0.01590626]\n",
      " [ 0.07139652]\n",
      " [-0.03099563]\n",
      " [ 0.00026092]\n",
      " [ 0.03690653]\n",
      " [ 0.03906215]\n",
      " [-0.01482845]\n",
      " [ 0.00672779]\n",
      " [-0.06871905]\n",
      " [-0.00943939]\n",
      " [ 0.01966154]\n",
      " [ 0.07462995]\n",
      " [-0.00836158]\n",
      " [-0.02345095]\n",
      " [-0.046085  ]\n",
      " [ 0.05415152]\n",
      " [-0.03530688]\n",
      " [-0.03207344]\n",
      " [-0.0816528 ]\n",
      " [ 0.04768465]\n",
      " [ 0.06061839]\n",
      " [ 0.05630715]\n",
      " [ 0.09834182]\n",
      " [ 0.05954058]\n",
      " [ 0.03367309]\n",
      " [ 0.05630715]\n",
      " [-0.06548562]\n",
      " [ 0.16085492]\n",
      " [-0.05578531]\n",
      " [-0.02452876]\n",
      " [-0.03638469]\n",
      " [-0.00836158]\n",
      " [-0.04177375]\n",
      " [ 0.12744274]\n",
      " [-0.07734155]\n",
      " [ 0.02828403]\n",
      " [-0.02560657]\n",
      " [-0.06225218]\n",
      " [-0.00081689]\n",
      " [ 0.08864151]\n",
      " [-0.03207344]\n",
      " [ 0.03043966]\n",
      " [ 0.00888341]\n",
      " [ 0.00672779]\n",
      " [-0.02021751]\n",
      " [-0.02452876]\n",
      " [-0.01159501]\n",
      " [ 0.02612841]\n",
      " [-0.05901875]\n",
      " [-0.03638469]\n",
      " [-0.02452876]\n",
      " [ 0.01858372]\n",
      " [-0.0902753 ]\n",
      " [-0.00512814]\n",
      " [-0.05255187]\n",
      " [-0.02237314]\n",
      " [-0.02021751]\n",
      " [-0.0547075 ]\n",
      " [-0.00620595]\n",
      " [-0.01698407]\n",
      " [ 0.05522933]\n",
      " [ 0.07678558]\n",
      " [ 0.01858372]\n",
      " [-0.02237314]\n",
      " [ 0.09295276]\n",
      " [-0.03099563]\n",
      " [ 0.03906215]\n",
      " [-0.06117437]\n",
      " [-0.00836158]\n",
      " [-0.0374625 ]\n",
      " [-0.01375064]\n",
      " [ 0.07355214]\n",
      " [-0.02452876]\n",
      " [ 0.03367309]\n",
      " [ 0.0347509 ]\n",
      " [-0.03854032]\n",
      " [-0.03961813]\n",
      " [-0.00189471]\n",
      " [-0.03099563]\n",
      " [-0.046085  ]\n",
      " [ 0.00133873]\n",
      " [ 0.06492964]\n",
      " [ 0.04013997]\n",
      " [-0.02345095]\n",
      " [ 0.05307371]\n",
      " [ 0.04013997]\n",
      " [-0.02021751]\n",
      " [ 0.01427248]\n",
      " [-0.03422907]\n",
      " [ 0.00672779]\n",
      " [ 0.00457217]\n",
      " [ 0.03043966]\n",
      " [ 0.0519959 ]\n",
      " [ 0.06169621]\n",
      " [-0.00728377]\n",
      " [ 0.00564998]\n",
      " [ 0.05415152]\n",
      " [-0.00836158]\n",
      " [ 0.114509  ]\n",
      " [ 0.06708527]\n",
      " [-0.05578531]\n",
      " [ 0.03043966]\n",
      " [-0.02560657]\n",
      " [ 0.10480869]\n",
      " [-0.00620595]\n",
      " [-0.04716281]\n",
      " [-0.04824063]\n",
      " [ 0.08540807]\n",
      " [-0.01267283]\n",
      " [-0.03315126]\n",
      " [-0.00728377]\n",
      " [-0.01375064]\n",
      " [ 0.05954058]\n",
      " [ 0.02181716]\n",
      " [ 0.01858372]\n",
      " [-0.01159501]\n",
      " [-0.00297252]\n",
      " [ 0.01750591]\n",
      " [-0.02991782]\n",
      " [-0.02021751]\n",
      " [-0.05794093]\n",
      " [ 0.06061839]\n",
      " [-0.04069594]\n",
      " [-0.07195249]\n",
      " [-0.05578531]\n",
      " [ 0.04552903]\n",
      " [-0.00943939]\n",
      " [-0.03315126]\n",
      " [ 0.04984027]\n",
      " [-0.08488624]\n",
      " [ 0.00564998]\n",
      " [ 0.02073935]\n",
      " [-0.00728377]\n",
      " [ 0.10480869]\n",
      " [-0.02452876]\n",
      " [-0.00620595]\n",
      " [-0.03854032]\n",
      " [ 0.13714305]\n",
      " [ 0.17055523]\n",
      " [ 0.00241654]\n",
      " [ 0.03798434]\n",
      " [-0.05794093]\n",
      " [-0.00943939]\n",
      " [-0.02345095]\n",
      " [-0.0105172 ]\n",
      " [-0.03422907]\n",
      " [-0.00297252]\n",
      " [ 0.06816308]\n",
      " [ 0.00996123]\n",
      " [ 0.00241654]\n",
      " [-0.03854032]\n",
      " [ 0.02612841]\n",
      " [-0.08919748]\n",
      " [ 0.06061839]\n",
      " [-0.02884001]\n",
      " [-0.02991782]\n",
      " [-0.0191397 ]\n",
      " [-0.04069594]\n",
      " [ 0.01535029]\n",
      " [-0.02452876]\n",
      " [ 0.00133873]\n",
      " [ 0.06924089]\n",
      " [-0.06979687]\n",
      " [-0.02991782]\n",
      " [-0.046085  ]\n",
      " [ 0.01858372]\n",
      " [ 0.00133873]\n",
      " [-0.03099563]\n",
      " [-0.00405033]\n",
      " [ 0.01535029]\n",
      " [ 0.02289497]\n",
      " [ 0.04552903]\n",
      " [-0.04500719]\n",
      " [-0.03315126]\n",
      " [ 0.097264  ]\n",
      " [ 0.05415152]\n",
      " [ 0.12313149]\n",
      " [-0.08057499]\n",
      " [ 0.09295276]\n",
      " [-0.05039625]\n",
      " [-0.01159501]\n",
      " [-0.0277622 ]\n",
      " [ 0.05846277]\n",
      " [ 0.08540807]\n",
      " [-0.00081689]\n",
      " [ 0.00672779]\n",
      " [ 0.00888341]\n",
      " [ 0.08001901]\n",
      " [ 0.07139652]\n",
      " [-0.02452876]\n",
      " [-0.0547075 ]\n",
      " [-0.03638469]\n",
      " [ 0.0164281 ]\n",
      " [ 0.07786339]\n",
      " [-0.03961813]\n",
      " [ 0.01103904]\n",
      " [-0.04069594]\n",
      " [-0.03422907]\n",
      " [ 0.00564998]\n",
      " [ 0.08864151]\n",
      " [-0.03315126]\n",
      " [-0.05686312]\n",
      " [-0.03099563]\n",
      " [ 0.05522933]\n",
      " [-0.06009656]\n",
      " [ 0.00133873]\n",
      " [-0.02345095]\n",
      " [-0.07410811]\n",
      " [ 0.01966154]\n",
      " [-0.01590626]\n",
      " [-0.01590626]\n",
      " [ 0.03906215]\n",
      " [-0.0730303 ]]\n"
     ]
    }
   ],
   "source": [
    "print(diabetes_X)"
   ]
  },
  {
   "cell_type": "code",
   "execution_count": 9,
   "metadata": {},
   "outputs": [],
   "source": [
    "diabetes_X_train = diabetes_X[:-30]"
   ]
  },
  {
   "cell_type": "code",
   "execution_count": 11,
   "metadata": {},
   "outputs": [],
   "source": [
    "diabetes_X_test = diabetes_X[-30:]"
   ]
  },
  {
   "cell_type": "code",
   "execution_count": 13,
   "metadata": {},
   "outputs": [],
   "source": [
    "diabetes_y_train = diabetes.target[:-30]"
   ]
  },
  {
   "cell_type": "code",
   "execution_count": 14,
   "metadata": {},
   "outputs": [],
   "source": [
    "diabetes_y_test = diabetes.target[-30:]"
   ]
  },
  {
   "cell_type": "code",
   "execution_count": 15,
   "metadata": {},
   "outputs": [],
   "source": [
    "model = linear_model.LinearRegression()"
   ]
  },
  {
   "cell_type": "code",
   "execution_count": 17,
   "metadata": {},
   "outputs": [
    {
     "data": {
      "text/plain": [
       "LinearRegression()"
      ]
     },
     "execution_count": 17,
     "metadata": {},
     "output_type": "execute_result"
    }
   ],
   "source": [
    "model.fit(diabetes_X_train,diabetes_y_test)"
   ]
  },
  {
   "cell_type": "code",
   "execution_count": 18,
   "metadata": {},
   "outputs": [
    {
     "data": {
      "text/plain": [
       "array([224.2666863 , 134.08905428, 141.97959708, 144.23403788,\n",
       "       218.63058429, 209.61282109, 109.29020548,  77.72803427,\n",
       "        96.89078107, 152.12458068, 216.37614349,  93.50911987,\n",
       "       146.48847868,  92.38189947,  99.14522187, 140.85237668,\n",
       "       227.6483475 , 100.27244227,  75.47359347, 102.52688307,\n",
       "       192.70451509,  72.09193227, 136.34349508, 110.41742588,\n",
       "        57.43806707, 155.50624188, 118.30796868, 118.30796868,\n",
       "       175.79620909,  58.56528747])"
      ]
     },
     "execution_count": 18,
     "metadata": {},
     "output_type": "execute_result"
    }
   ],
   "source": [
    "model.predict(diabetes_X_test)"
   ]
  },
  {
   "cell_type": "code",
   "execution_count": 22,
   "metadata": {},
   "outputs": [],
   "source": [
    "diabetes_y_predict = model.predict(diabetes_X_train)"
   ]
  },
  {
   "cell_type": "code",
   "execution_count": 33,
   "metadata": {},
   "outputs": [
    {
     "name": "stdout",
     "output_type": "stream",
     "text": [
      "Mean Squared Error: 2663.6342502846505\n"
     ]
    }
   ],
   "source": [
    "print('Mean Squared Error:', mean_squared_error(diabetes_y_test, diabetes_y_predict))"
   ]
  },
  {
   "cell_type": "code",
   "execution_count": 35,
   "metadata": {},
   "outputs": [
    {
     "name": "stdout",
     "output_type": "stream",
     "text": [
      "wieghts: [1045.84131827]\n"
     ]
    }
   ],
   "source": [
    "print(\"wieghts:\",model.coef_)"
   ]
  },
  {
   "cell_type": "code",
   "execution_count": 37,
   "metadata": {},
   "outputs": [],
   "source": [
    "from sklearn import metrics"
   ]
  },
  {
   "cell_type": "code",
   "execution_count": 38,
   "metadata": {},
   "outputs": [
    {
     "name": "stdout",
     "output_type": "stream",
     "text": [
      "Mean Absolute Error: 38.74784695428405\n"
     ]
    }
   ],
   "source": [
    "print('Mean Absolute Error:',metrics.mean_absolute_error(diabetes_y_test, diabetes_y_predict))"
   ]
  },
  {
   "cell_type": "code",
   "execution_count": 39,
   "metadata": {},
   "outputs": [
    {
     "name": "stdout",
     "output_type": "stream",
     "text": [
      "Mean Squared Error: 2663.6342502846505\n"
     ]
    }
   ],
   "source": [
    "print('Mean Squared Error:', metrics.mean_squared_error(diabetes_y_test, diabetes_y_predict))"
   ]
  },
  {
   "cell_type": "code",
   "execution_count": 40,
   "metadata": {},
   "outputs": [
    {
     "name": "stdout",
     "output_type": "stream",
     "text": [
      "Root Mean Squared Error: 51.61040835223696\n"
     ]
    }
   ],
   "source": [
    "print('Root Mean Squared Error:', np.sqrt(metrics.mean_squared_error(diabetes_y_test, diabetes_y_predict)))"
   ]
  },
  {
   "cell_type": "code",
   "execution_count": 43,
   "metadata": {},
   "outputs": [
    {
     "data": {
      "text/plain": [
       "<matplotlib.collections.PathCollection at 0x1e67e1ab250>"
      ]
     },
     "execution_count": 43,
     "metadata": {},
     "output_type": "execute_result"
    },
    {
     "data": {
      "image/png": "[encoded data removed]",
      "text/plain": [
       "<Figure size 432x288 with 1 Axes>"
      ]
     },
     "metadata": {
      "needs_background": "light"
     },
     "output_type": "display_data"
    }
   ],
   "source": [
    "plt.scatter(diabetes_X_test,diabetes_y_test)"
   ]
  },
  {
   "cell_type": "code",
   "execution_count": 44,
   "metadata": {},
   "outputs": [
    {
     "data": {
      "text/plain": [
       "<matplotlib.collections.PathCollection at 0x1e67f2408b0>"
      ]
     },
     "execution_count": 44,
     "metadata": {},
     "output_type": "execute_result"
    },
    {
     "data": {
      "image/png": "[encoded data removed]",
      "text/plain": [
       "<Figure size 432x288 with 1 Axes>"
      ]
     },
     "metadata": {
      "needs_background": "light"
     },
     "output_type": "display_data"
    }
   ],
   "source": [
    "plt.scatter(diabetes_X_test,diabetes_y_predict)"
   ]
  },
  {
   "cell_type": "code",
   "execution_count": null,
   "metadata": {},
   "outputs": [],
   "source": []
  }
 ],
 "metadata": {
  "kernelspec": {
   "display_name": "Python 3",
   "language": "python",
   "name": "python3"
  },
  "language_info": {
   "codemirror_mode": {
    "name": "ipython",
    "version": 3
   },
   "file_extension": ".py",
   "mimetype": "text/x-python",
   "name": "python",
   "nbconvert_exporter": "python",
   "pygments_lexer": "ipython3",
   "version": "3.8.6"
  }
 },
 "nbformat": 4,
 "nbformat_minor": 4
}
